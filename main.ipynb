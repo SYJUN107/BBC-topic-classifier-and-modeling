{
 "cells": [
  {
   "cell_type": "markdown",
   "metadata": {},
   "source": [
    "# Caso práctico 3 - Clasificación y Modelado de Temas"
   ]
  },
  {
   "cell_type": "markdown",
   "metadata": {},
   "source": [
    "## Libraries & Misc"
   ]
  },
  {
   "cell_type": "code",
   "execution_count": 1,
   "metadata": {},
   "outputs": [],
   "source": [
    "# !pip install -r requirements.txt"
   ]
  },
  {
   "cell_type": "code",
   "execution_count": 2,
   "metadata": {},
   "outputs": [
    {
     "name": "stderr",
     "output_type": "stream",
     "text": [
      "C:\\Users\\NoobG\\AppData\\Local\\Packages\\PythonSoftwareFoundation.Python.3.11_qbz5n2kfra8p0\\LocalCache\\local-packages\\Python311\\site-packages\\tqdm\\auto.py:21: TqdmWarning: IProgress not found. Please update jupyter and ipywidgets. See https://ipywidgets.readthedocs.io/en/stable/user_install.html\n",
      "  from .autonotebook import tqdm as notebook_tqdm\n"
     ]
    }
   ],
   "source": [
    "import nltk\n",
    "import spacy\n",
    "from sentence_transformers import SentenceTransformer\n",
    "import gensim\n",
    "import gensim.corpora as corpora\n",
    "from gensim.models import LdaModel\n",
    "from gensim.utils import simple_preprocess\n",
    "from sklearn.feature_extraction.text import TfidfVectorizer, CountVectorizer\n",
    "from sklearn.model_selection import train_test_split, cross_val_score, KFold\n",
    "from sklearn.naive_bayes import MultinomialNB\n",
    "from sklearn.svm import SVC\n",
    "from sklearn.ensemble import RandomForestClassifier\n",
    "from sklearn.metrics import accuracy_score, classification_report, confusion_matrix\n",
    "import pandas as pd\n",
    "import numpy as np\n",
    "import matplotlib.pyplot as plt\n",
    "import seaborn as sns\n",
    "from wordcloud import WordCloud\n",
    "from tqdm import tqdm\n",
    "import re  # Importar el módulo re\n",
    "import os"
   ]
  },
  {
   "cell_type": "markdown",
   "metadata": {},
   "source": [
    "### Directorios"
   ]
  },
  {
   "cell_type": "code",
   "execution_count": 3,
   "metadata": {},
   "outputs": [],
   "source": [
    "dir = 'data/'\n",
    "processed_dir = 'processed/'\n",
    "test_dir = 'test/'\n",
    "train_dir = 'train/'\n",
    "all_dir = 'all/'"
   ]
  },
  {
   "cell_type": "markdown",
   "metadata": {},
   "source": [
    "## Preprocessing & Eda"
   ]
  },
  {
   "cell_type": "markdown",
   "metadata": {},
   "source": [
    "Esta función nos sirve para hacer una estandarización inicial de los textos, dejandolos todos los corpus como \"palabra\" + \"espacio\" + \"palabra\", quitando saltos de líneas entre otros espacios que puedan haber."
   ]
  },
  {
   "cell_type": "code",
   "execution_count": 4,
   "metadata": {},
   "outputs": [],
   "source": [
    "def clean_text(text):\n",
    "    \"\"\"\n",
    "    Limpia un texto, reemplazando tabuladores y saltos de línea múltiples\n",
    "    por espacios simples, y eliminando espacios en blanco al principio y al final.\n",
    "\n",
    "    Args:\n",
    "        text: La cadena de texto a limpiar.\n",
    "\n",
    "    Returns:\n",
    "        La cadena de texto limpia.\n",
    "    \"\"\"\n",
    "    # Reemplazar uno o más saltos de línea por un solo espacio\n",
    "    text = re.sub(r'\\n+', ' ', text)\n",
    "\n",
    "    # Reemplazar uno o más tabuladores por un solo espacio\n",
    "    text = re.sub(r'\\t+', ' ', text)\n",
    "\n",
    "    # Reemplazar uno o más espacios en blanco (incluyendo espacios, tabuladores,\n",
    "    # saltos de línea) por un solo espacio.\n",
    "    text = re.sub(r'\\s+', ' ', text)\n",
    "\n",
    "    # Eliminar espacios en blanco al principio y al final\n",
    "    text = text.strip()\n",
    "\n",
    "    return text"
   ]
  },
  {
   "cell_type": "markdown",
   "metadata": {},
   "source": [
    "Esta función nos permite cargar todos los ficheros .txt que tenemos y asignarlo a una tabla con el formato de:\n",
    "\n",
    "id | category | train | corpus\n",
    "\n",
    "en la que representan lo siguiente:\n",
    "- **id**: representa el nombre del fichero .txt.\n",
    "- **category**: la categoría que pertenece el fichero (business, sport, ...).\n",
    "- **train**: si el fichero pertenece al conjunto preseparado de train o de test.\n",
    "- **corpus**: el corpus del contenido del fichero .txt.\n"
   ]
  },
  {
   "cell_type": "code",
   "execution_count": 5,
   "metadata": {},
   "outputs": [],
   "source": [
    "def load_data(base_dir):\n",
    "    df = pd.DataFrame(columns=['id', 'category', 'train', 'corpus'])\n",
    "    err = ''\n",
    "    try:\n",
    "        for train_test_dir in os.listdir(base_dir):\n",
    "            for cat_dir in os.listdir(base_dir + train_test_dir):\n",
    "                for text_file in os.listdir(base_dir + train_test_dir + '/' + cat_dir):\n",
    "                    err = base_dir + train_test_dir + '/' + cat_dir + '/' + text_file\n",
    "                    with open(base_dir + train_test_dir + '/' + cat_dir + '/' + text_file, 'r', encoding='utf-8', errors='replace') as file:\n",
    "                        text = clean_text(file.read())\n",
    "                        text_list = text.split(' ')\n",
    "                        # print(text)\n",
    "                        # print('----------------------')\n",
    "                        df.loc[len(df)] = {'id': text_file, 'category': cat_dir, 'train': train_test_dir, 'corpus': text_list}\n",
    "\n",
    "        return df\n",
    "\n",
    "    except Exception as e:\n",
    "        print(e)\n",
    "        print(err)"
   ]
  },
  {
   "cell_type": "code",
   "execution_count": null,
   "metadata": {},
   "outputs": [],
   "source": [
    "# df = load_data(dir)\n",
    "# os.makedirs(dir + processed_dir, exist_ok=True)\n",
    "# df.to_csv(dir + processed_dir + 'df_raw', index=False)"
   ]
  },
  {
   "cell_type": "code",
   "execution_count": 11,
   "metadata": {},
   "outputs": [],
   "source": [
    "df = pd.read_csv(dir + processed_dir + 'df_raw')"
   ]
  },
  {
   "cell_type": "code",
   "execution_count": 12,
   "metadata": {},
   "outputs": [
    {
     "data": {
      "text/html": [
       "<div>\n",
       "<style scoped>\n",
       "    .dataframe tbody tr th:only-of-type {\n",
       "        vertical-align: middle;\n",
       "    }\n",
       "\n",
       "    .dataframe tbody tr th {\n",
       "        vertical-align: top;\n",
       "    }\n",
       "\n",
       "    .dataframe thead th {\n",
       "        text-align: right;\n",
       "    }\n",
       "</style>\n",
       "<table border=\"1\" class=\"dataframe\">\n",
       "  <thead>\n",
       "    <tr style=\"text-align: right;\">\n",
       "      <th></th>\n",
       "      <th>id</th>\n",
       "      <th>category</th>\n",
       "      <th>train</th>\n",
       "      <th>corpus</th>\n",
       "    </tr>\n",
       "  </thead>\n",
       "  <tbody>\n",
       "    <tr>\n",
       "      <th>0</th>\n",
       "      <td>024.txt</td>\n",
       "      <td>business</td>\n",
       "      <td>bbc-test</td>\n",
       "      <td>['US', 'trade', 'gap', 'hits', 'record', 'in',...</td>\n",
       "    </tr>\n",
       "    <tr>\n",
       "      <th>1</th>\n",
       "      <td>025.txt</td>\n",
       "      <td>business</td>\n",
       "      <td>bbc-test</td>\n",
       "      <td>['Yukos', 'loses', 'US', 'bankruptcy', 'battle...</td>\n",
       "    </tr>\n",
       "    <tr>\n",
       "      <th>2</th>\n",
       "      <td>026.txt</td>\n",
       "      <td>business</td>\n",
       "      <td>bbc-test</td>\n",
       "      <td>['Safety', 'alert', 'as', 'GM', 'recalls', 'ca...</td>\n",
       "    </tr>\n",
       "  </tbody>\n",
       "</table>\n",
       "</div>"
      ],
      "text/plain": [
       "        id  category     train  \\\n",
       "0  024.txt  business  bbc-test   \n",
       "1  025.txt  business  bbc-test   \n",
       "2  026.txt  business  bbc-test   \n",
       "\n",
       "                                              corpus  \n",
       "0  ['US', 'trade', 'gap', 'hits', 'record', 'in',...  \n",
       "1  ['Yukos', 'loses', 'US', 'bankruptcy', 'battle...  \n",
       "2  ['Safety', 'alert', 'as', 'GM', 'recalls', 'ca...  "
      ]
     },
     "execution_count": 12,
     "metadata": {},
     "output_type": "execute_result"
    }
   ],
   "source": [
    "df.head(3)"
   ]
  },
  {
   "cell_type": "markdown",
   "metadata": {},
   "source": []
  }
 ],
 "metadata": {
  "kernelspec": {
   "display_name": "Python 3",
   "language": "python",
   "name": "python3"
  },
  "language_info": {
   "codemirror_mode": {
    "name": "ipython",
    "version": 3
   },
   "file_extension": ".py",
   "mimetype": "text/x-python",
   "name": "python",
   "nbconvert_exporter": "python",
   "pygments_lexer": "ipython3",
   "version": "3.11.9"
  }
 },
 "nbformat": 4,
 "nbformat_minor": 2
}
