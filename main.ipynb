{
 "cells": [
  {
   "cell_type": "markdown",
   "metadata": {},
   "source": [
    "# Caso práctico 3 - Clasificación y Modelado de Temas"
   ]
  },
  {
   "cell_type": "markdown",
   "metadata": {},
   "source": [
    "## Libraries & Misc"
   ]
  },
  {
   "cell_type": "code",
   "execution_count": 6,
   "metadata": {},
   "outputs": [],
   "source": [
    "# !pip install -r requirements.txt"
   ]
  },
  {
   "cell_type": "code",
   "execution_count": 10,
   "metadata": {},
   "outputs": [],
   "source": [
    "import nltk\n",
    "import spacy\n",
    "from sentence_transformers import SentenceTransformer\n",
    "import gensim\n",
    "import gensim.corpora as corpora\n",
    "from gensim.models import LdaModel\n",
    "from gensim.utils import simple_preprocess\n",
    "from sklearn.feature_extraction.text import TfidfVectorizer, CountVectorizer\n",
    "from sklearn.model_selection import train_test_split, cross_val_score, KFold\n",
    "from sklearn.naive_bayes import MultinomialNB\n",
    "from sklearn.svm import SVC\n",
    "from sklearn.ensemble import RandomForestClassifier\n",
    "from sklearn.metrics import accuracy_score, classification_report, confusion_matrix\n",
    "import pandas as pd\n",
    "import numpy as np\n",
    "import matplotlib.pyplot as plt\n",
    "import seaborn as sns\n",
    "from wordcloud import WordCloud\n",
    "from tqdm import tqdm\n",
    "import re  # Importar el módulo re\n",
    "import os"
   ]
  },
  {
   "cell_type": "markdown",
   "metadata": {},
   "source": [
    "## Preprocessing & Eda"
   ]
  },
  {
   "cell_type": "code",
   "execution_count": 11,
   "metadata": {},
   "outputs": [],
   "source": [
    "dir = 'data/'\n",
    "processed_dir = '/processed/'\n",
    "test_dir = 'test/'\n",
    "train_dir = 'train/'\n",
    "all_dir = 'all/'"
   ]
  },
  {
   "cell_type": "code",
   "execution_count": 31,
   "metadata": {},
   "outputs": [],
   "source": [
    "def clean_text(text):\n",
    "    \"\"\"\n",
    "    Limpia un texto, reemplazando tabuladores y saltos de línea múltiples\n",
    "    por espacios simples, y eliminando espacios en blanco al principio y al final.\n",
    "\n",
    "    Args:\n",
    "        text: La cadena de texto a limpiar.\n",
    "\n",
    "    Returns:\n",
    "        La cadena de texto limpia.\n",
    "    \"\"\"\n",
    "    # Reemplazar uno o más saltos de línea por un solo espacio\n",
    "    text = re.sub(r'\\n+', ' ', text)\n",
    "\n",
    "    # Reemplazar uno o más tabuladores por un solo espacio\n",
    "    text = re.sub(r'\\t+', ' ', text)\n",
    "\n",
    "    # Reemplazar uno o más espacios en blanco (incluyendo espacios, tabuladores,\n",
    "    # saltos de línea) por un solo espacio.\n",
    "    text = re.sub(r'\\s+', ' ', text)\n",
    "\n",
    "    # Eliminar espacios en blanco al principio y al final\n",
    "    text = text.strip()\n",
    "\n",
    "    return text"
   ]
  },
  {
   "cell_type": "code",
   "execution_count": 44,
   "metadata": {},
   "outputs": [],
   "source": [
    "def load_data(base_dir):\n",
    "    df = pd.DataFrame(columns=['id', 'category', 'train', 'corpus'])\n",
    "    err = ''\n",
    "    try:\n",
    "        for train_test_dir in os.listdir(base_dir):\n",
    "            for cat_dir in os.listdir(base_dir + train_test_dir):\n",
    "                for text_file in os.listdir(base_dir + train_test_dir + '/' + cat_dir):\n",
    "                    err = base_dir + train_test_dir + '/' + cat_dir + '/' + text_file\n",
    "                    with open(base_dir + train_test_dir + '/' + cat_dir + '/' + text_file, 'r', encoding='utf-8', errors='replace') as file:\n",
    "                        text = clean_text(file.read())\n",
    "                        text_list = text.split(' ')\n",
    "                        # print(text)\n",
    "                        # print('----------------------')\n",
    "                        df.loc[len(df)] = {'id': text_file, 'category': cat_dir, 'train': train_test_dir, 'corpus': text_list}\n",
    "\n",
    "        return df\n",
    "\n",
    "    except Exception as e:\n",
    "        print(e)\n",
    "        print(err)"
   ]
  },
  {
   "cell_type": "code",
   "execution_count": 45,
   "metadata": {},
   "outputs": [],
   "source": [
    "df = load_data(dir)"
   ]
  },
  {
   "cell_type": "code",
   "execution_count": 46,
   "metadata": {},
   "outputs": [
    {
     "data": {
      "text/html": [
       "<div>\n",
       "<style scoped>\n",
       "    .dataframe tbody tr th:only-of-type {\n",
       "        vertical-align: middle;\n",
       "    }\n",
       "\n",
       "    .dataframe tbody tr th {\n",
       "        vertical-align: top;\n",
       "    }\n",
       "\n",
       "    .dataframe thead th {\n",
       "        text-align: right;\n",
       "    }\n",
       "</style>\n",
       "<table border=\"1\" class=\"dataframe\">\n",
       "  <thead>\n",
       "    <tr style=\"text-align: right;\">\n",
       "      <th></th>\n",
       "      <th>id</th>\n",
       "      <th>category</th>\n",
       "      <th>train</th>\n",
       "      <th>corpus</th>\n",
       "    </tr>\n",
       "  </thead>\n",
       "  <tbody>\n",
       "    <tr>\n",
       "      <th>0</th>\n",
       "      <td>024.txt</td>\n",
       "      <td>business</td>\n",
       "      <td>bbc-test</td>\n",
       "      <td>[US, trade, gap, hits, record, in, 2004, The, ...</td>\n",
       "    </tr>\n",
       "    <tr>\n",
       "      <th>1</th>\n",
       "      <td>025.txt</td>\n",
       "      <td>business</td>\n",
       "      <td>bbc-test</td>\n",
       "      <td>[Yukos, loses, US, bankruptcy, battle, A, judg...</td>\n",
       "    </tr>\n",
       "    <tr>\n",
       "      <th>2</th>\n",
       "      <td>026.txt</td>\n",
       "      <td>business</td>\n",
       "      <td>bbc-test</td>\n",
       "      <td>[Safety, alert, as, GM, recalls, cars, The, wo...</td>\n",
       "    </tr>\n",
       "  </tbody>\n",
       "</table>\n",
       "</div>"
      ],
      "text/plain": [
       "        id  category     train  \\\n",
       "0  024.txt  business  bbc-test   \n",
       "1  025.txt  business  bbc-test   \n",
       "2  026.txt  business  bbc-test   \n",
       "\n",
       "                                              corpus  \n",
       "0  [US, trade, gap, hits, record, in, 2004, The, ...  \n",
       "1  [Yukos, loses, US, bankruptcy, battle, A, judg...  \n",
       "2  [Safety, alert, as, GM, recalls, cars, The, wo...  "
      ]
     },
     "execution_count": 46,
     "metadata": {},
     "output_type": "execute_result"
    }
   ],
   "source": [
    "df.head(3)"
   ]
  }
 ],
 "metadata": {
  "kernelspec": {
   "display_name": "Python 3",
   "language": "python",
   "name": "python3"
  },
  "language_info": {
   "codemirror_mode": {
    "name": "ipython",
    "version": 3
   },
   "file_extension": ".py",
   "mimetype": "text/x-python",
   "name": "python",
   "nbconvert_exporter": "python",
   "pygments_lexer": "ipython3",
   "version": "3.11.9"
  }
 },
 "nbformat": 4,
 "nbformat_minor": 2
}
